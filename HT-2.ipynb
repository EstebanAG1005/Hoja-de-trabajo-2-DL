{
 "cells": [
  {
   "cell_type": "markdown",
   "metadata": {},
   "source": [
    "### HOJA DE TRABAJO 2\n",
    "\n",
    "KENNETH GALVEZ 20079\n",
    "\n",
    "JESSICA ORTIZ 20192\n",
    "\n",
    "ESTEBAN ALDANA 20591"
   ]
  },
  {
   "cell_type": "code",
   "execution_count": 13,
   "metadata": {},
   "outputs": [],
   "source": [
    "# Importando bibliotecas necesarias\n",
    "import torch\n",
    "import torch.nn as nn\n",
    "import torch.optim as optim\n",
    "from sklearn.datasets import load_iris\n",
    "from sklearn.model_selection import train_test_split\n",
    "from sklearn.metrics import accuracy_score\n",
    "import time\n",
    "import pandas as pd\n",
    "import matplotlib.pyplot as plt\n",
    "import seaborn as sns\n",
    "import torch.nn.functional as F\n",
    "\n"
   ]
  },
  {
   "cell_type": "markdown",
   "metadata": {},
   "source": [
    "### Task 1 - Preparación del conjunto de datos\n",
    "\n",
    "Cargue el conjunto de datos de Iris utilizando bibliotecas como sklearn.datasets. Luego, divida el conjunto de datos\n",
    "en conjuntos de entrenamiento y validación.\n"
   ]
  },
  {
   "cell_type": "code",
   "execution_count": 14,
   "metadata": {},
   "outputs": [],
   "source": [
    "# Cargando el conjunto de datos de Iris\n",
    "iris = load_iris()\n",
    "X = iris.data\n",
    "y = iris.target\n",
    "\n",
    "# Dividiendo el conjunto de datos en conjuntos de entrenamiento y validación\n",
    "X_train, X_val, y_train, y_val = train_test_split(X, y, test_size=0.2, random_state=42)\n",
    "\n",
    "# Conviértelos a tensores de PyTorch\n",
    "X_train = torch.FloatTensor(X_train)\n",
    "y_train = torch.LongTensor(y_train)\n",
    "X_val = torch.FloatTensor(X_val)\n",
    "y_val = torch.LongTensor(y_val)\n",
    "# Convertir a one-hot encoding\n",
    "y_train_onehot = F.one_hot(y_train, num_classes=output_size).float()\n",
    "y_val_onehot = F.one_hot(y_val, num_classes=output_size).float()\n"
   ]
  },
  {
   "cell_type": "markdown",
   "metadata": {},
   "source": [
    "### Task 2 - Arquitectura modelo\n",
    "Cree una red neuronal feedforward simple utilizando nn.Module de PyTorch. Luego, defina capa de entrada, capas\n",
    "ocultas y capa de salida. Después, elija las funciones de activación y el número de neuronas por capa."
   ]
  },
  {
   "cell_type": "code",
   "execution_count": 15,
   "metadata": {},
   "outputs": [],
   "source": [
    "# Definir la arquitectura del modelo\n",
    "class SimpleNN(nn.Module):\n",
    "    def __init__(self, input_size, output_size, regularization):\n",
    "        super(SimpleNN, self).__init__()\n",
    "        self.fc1 = nn.Linear(input_size, 16)\n",
    "        self.fc2 = nn.Linear(16, 32)\n",
    "        self.fc3 = nn.Linear(32, output_size)\n",
    "        self.dropout = nn.Dropout(0.2) if regularization == 'Dropout' else None\n",
    "\n",
    "    def forward(self, x):\n",
    "        x = torch.relu(self.fc1(x))\n",
    "        if self.dropout is not None:\n",
    "            x = self.dropout(x)\n",
    "        x = torch.relu(self.fc2(x))\n",
    "        if self.dropout is not None:\n",
    "            x = self.dropout(x)\n",
    "        x = self.fc3(x)\n",
    "        return x"
   ]
  },
  {
   "cell_type": "code",
   "execution_count": 16,
   "metadata": {},
   "outputs": [],
   "source": [
    "# Configuración de hiperparámetros\n",
    "input_size = X_train.shape[1]\n",
    "output_size = len(torch.unique(y_train))\n",
    "num_epochs = 50\n",
    "learning_rate = 0.01\n",
    "\n",
    "best_accuracy = 0\n",
    "best_combo = None"
   ]
  },
  {
   "cell_type": "markdown",
   "metadata": {},
   "source": [
    "### Task 3- Funciones de Pérdida\n",
    "\n"
   ]
  },
  {
   "cell_type": "code",
   "execution_count": 17,
   "metadata": {},
   "outputs": [],
   "source": [
    "# Possible loss functions\n",
    "loss_functions = ['CrossEntropy', 'MSE', 'Poisson']"
   ]
  },
  {
   "cell_type": "markdown",
   "metadata": {},
   "source": [
    "#### Task 4-5-6 - Experimentación y Análisis\n",
    "Entrene los modelos con diferentes combinaciones de funciones de pérdida, técnicas de regularización y\n",
    "algoritmos de optimización. Para no complicar esta parte, puede dejar fijo dos de estos parámetros (función de\n",
    "pérdida, técnicas de regularización, algoritmo de optimización) y solamente cambiar uno de ellos. Deben verse al\n",
    "menos 9 combinaciones en total, donde es válido que en una de ellas no haya ninguna técnica de regularización. Si\n",
    "quiere experimentar con más combinaciones se le dará hasta 10% de puntos extra.\n",
    "Para cada combinación registre métricas como precisión, pérdida y alguna otra métrica que considere pertinente\n",
    "(Recuerde lo visto en inteligencia artificial).\n",
    "Visualice las curvas (tanto en precisión, pérdida y la tercera métrica que decidió) de entrenamiento y validación\n",
    "utilizando bibliotecas como matplotlib y/o seaborn. Además, recuerde llevar tracking de los tiempos de ejecución\n",
    "de cada combinación"
   ]
  },
  {
   "cell_type": "code",
   "execution_count": 22,
   "metadata": {},
   "outputs": [
    {
     "name": "stdout",
     "output_type": "stream",
     "text": [
      "Loss function: CrossEntropy, Regularization: L1, Optimizer: SGD, Validation Accuracy: 0.7, Time: 0.05553078651428223s\n",
      "Loss function: CrossEntropy, Regularization: L1, Optimizer: Adam, Validation Accuracy: 1.0, Time: 0.06699991226196289s\n",
      "Loss function: CrossEntropy, Regularization: L1, Optimizer: RMSprop, Validation Accuracy: 0.8, Time: 0.0565645694732666s\n",
      "Loss function: CrossEntropy, Regularization: L2, Optimizer: SGD, Validation Accuracy: 0.7, Time: 0.030691146850585938s\n",
      "Loss function: CrossEntropy, Regularization: L2, Optimizer: Adam, Validation Accuracy: 0.9666666666666667, Time: 0.051694393157958984s\n",
      "Loss function: CrossEntropy, Regularization: L2, Optimizer: RMSprop, Validation Accuracy: 0.8333333333333334, Time: 0.061014413833618164s\n",
      "Loss function: CrossEntropy, Regularization: Dropout, Optimizer: SGD, Validation Accuracy: 0.4, Time: 0.06052899360656738s\n",
      "Loss function: CrossEntropy, Regularization: Dropout, Optimizer: Adam, Validation Accuracy: 0.9666666666666667, Time: 0.0735015869140625s\n",
      "Loss function: CrossEntropy, Regularization: Dropout, Optimizer: RMSprop, Validation Accuracy: 0.8666666666666667, Time: 0.05700278282165527s\n",
      "Loss function: MSE, Regularization: L1, Optimizer: SGD, Validation Accuracy: 0.7333333333333333, Time: 0.05351448059082031s\n",
      "Loss function: MSE, Regularization: L1, Optimizer: Adam, Validation Accuracy: 1.0, Time: 0.06099390983581543s\n",
      "Loss function: MSE, Regularization: L1, Optimizer: RMSprop, Validation Accuracy: 0.8, Time: 0.04919719696044922s\n",
      "Loss function: MSE, Regularization: L2, Optimizer: SGD, Validation Accuracy: 0.43333333333333335, Time: 0.031002521514892578s\n",
      "Loss function: MSE, Regularization: L2, Optimizer: Adam, Validation Accuracy: 0.9333333333333333, Time: 0.0525205135345459s\n",
      "Loss function: MSE, Regularization: L2, Optimizer: RMSprop, Validation Accuracy: 1.0, Time: 0.0500030517578125s\n",
      "Loss function: MSE, Regularization: Dropout, Optimizer: SGD, Validation Accuracy: 0.7, Time: 0.03852558135986328s\n",
      "Loss function: MSE, Regularization: Dropout, Optimizer: Adam, Validation Accuracy: 1.0, Time: 0.05402016639709473s\n",
      "Loss function: MSE, Regularization: Dropout, Optimizer: RMSprop, Validation Accuracy: 0.9666666666666667, Time: 0.04059624671936035s\n",
      "Loss function: Poisson, Regularization: L1, Optimizer: SGD, Validation Accuracy: 0.36666666666666664, Time: 0.045999765396118164s\n",
      "Loss function: Poisson, Regularization: L1, Optimizer: Adam, Validation Accuracy: 1.0, Time: 0.06951093673706055s\n",
      "Loss function: Poisson, Regularization: L1, Optimizer: RMSprop, Validation Accuracy: 0.8333333333333334, Time: 0.05499625205993652s\n",
      "Loss function: Poisson, Regularization: L2, Optimizer: SGD, Validation Accuracy: 0.36666666666666664, Time: 0.034517526626586914s\n",
      "Loss function: Poisson, Regularization: L2, Optimizer: Adam, Validation Accuracy: 0.9, Time: 0.05199718475341797s\n",
      "Loss function: Poisson, Regularization: L2, Optimizer: RMSprop, Validation Accuracy: 1.0, Time: 0.04151272773742676s\n",
      "Loss function: Poisson, Regularization: Dropout, Optimizer: SGD, Validation Accuracy: 0.36666666666666664, Time: 0.03699827194213867s\n",
      "Loss function: Poisson, Regularization: Dropout, Optimizer: Adam, Validation Accuracy: 0.9666666666666667, Time: 0.05700492858886719s\n",
      "Loss function: Poisson, Regularization: Dropout, Optimizer: RMSprop, Validation Accuracy: 0.6333333333333333, Time: 0.04750871658325195s\n"
     ]
    },
    {
     "data": {
      "image/png": "[encoded data removed]",
      "text/plain": [
       "<Figure size 1550.99x600 with 3 Axes>"
      ]
     },
     "metadata": {},
     "output_type": "display_data"
    },
    {
     "name": "stdout",
     "output_type": "stream",
     "text": [
      "The best combination was Loss function: CrossEntropy, Regularization: L1, Optimizer: Adam with a Validation Accuracy of 1.0\n"
     ]
    }
   ],
   "source": [
    "# Almacena resultados para su posterior análisis\n",
    "results = []\n",
    "\n",
    "# Realizar todas las combinaciones posibles\n",
    "for loss_function_name in loss_functions:\n",
    "    for regularization in ['L1', 'L2', 'Dropout']:\n",
    "        for optimizer_name in ['SGD', 'Adam', 'RMSprop']:\n",
    "            \n",
    "            start_time = time.time()\n",
    "            \n",
    "            model = SimpleNN(input_size, output_size, regularization=regularization)\n",
    "            \n",
    "            # Establecer la función de pérdida\n",
    "            if loss_function_name == 'CrossEntropy':\n",
    "                loss_function = nn.CrossEntropyLoss()\n",
    "            elif loss_function_name == 'MSE':\n",
    "                loss_function = nn.MSELoss()\n",
    "            elif loss_function_name == 'Poisson':\n",
    "                loss_function = nn.PoissonNLLLoss()\n",
    "            \n",
    "            # Establecer el optimizador\n",
    "            if optimizer_name == 'SGD':\n",
    "                optimizer = optim.SGD(model.parameters(), lr=learning_rate, weight_decay=(1e-4 if regularization == 'L2' else 0))\n",
    "            elif optimizer_name == 'Adam':\n",
    "                optimizer = optim.Adam(model.parameters(), lr=learning_rate, weight_decay=(1e-4 if regularization == 'L2' else 0))\n",
    "            elif optimizer_name == 'RMSprop':\n",
    "                optimizer = optim.RMSprop(model.parameters(), lr=learning_rate, weight_decay=(1e-4 if regularization == 'L2' else 0))\n",
    "            \n",
    "            # Entrenamiento del modelo\n",
    "            for epoch in range(num_epochs):\n",
    "                model.train()\n",
    "                optimizer.zero_grad()\n",
    "                outputs = model(X_train)\n",
    "                # Dentro del ciclo de entrenamiento\n",
    "                if loss_function_name == 'MSE' :\n",
    "                    loss = loss_function(outputs, y_train_onehot)\n",
    "                elif loss_function_name == 'Poisson' :\n",
    "                    loss = loss_function(outputs, y_train_onehot)\n",
    "                else:\n",
    "                    loss = loss_function(outputs, y_train)\n",
    "                \n",
    "                if regularization == 'L1':\n",
    "                    l1_lambda = 1e-4\n",
    "                    l1_norm = sum(p.abs().sum() for p in model.parameters())\n",
    "                    loss += l1_lambda * l1_norm\n",
    "                \n",
    "                loss.backward()\n",
    "                optimizer.step()\n",
    "\n",
    "            # Validación del modelo\n",
    "            model.eval()\n",
    "            val_outputs = model(X_val)\n",
    "            _, predicted = torch.max(val_outputs, 1)\n",
    "            accuracy = accuracy_score(y_val.cpu(), predicted.cpu())\n",
    "            \n",
    "            end_time = time.time()\n",
    "            elapsed_time = end_time - start_time\n",
    "            \n",
    "            results.append({\n",
    "                'Loss Function': loss_function_name,\n",
    "                'Regularization': regularization,\n",
    "                'Optimizer': optimizer_name,\n",
    "                'Validation Accuracy': accuracy,\n",
    "                'Execution Time': elapsed_time\n",
    "            })\n",
    "            \n",
    "            print(f'Loss function: {loss_function_name}, Regularization: {regularization}, Optimizer: {optimizer_name}, Validation Accuracy: {accuracy}, Time: {elapsed_time}s')\n",
    "            \n",
    "            if accuracy > best_accuracy:\n",
    "                best_accuracy = accuracy\n",
    "                best_combo = (loss_function_name, regularization, optimizer_name)\n",
    "\n",
    "# Crear un DataFrame con los resultados\n",
    "df = pd.DataFrame(results)\n",
    "\n",
    "# Visualizar los resultados usando seaborn\n",
    "sns.catplot(x=\"Optimizer\", y=\"Validation Accuracy\", hue=\"Regularization\", \n",
    "            col=\"Loss Function\", data=df, kind=\"bar\", height=6, aspect=0.8)\n",
    "plt.suptitle(\"Validation Accuracy for Different Optimizers, Regularization Techniques, and Loss Functions\", y=1.02)\n",
    "plt.show()\n",
    "\n",
    "print(f'The best combination was Loss function: {best_combo[0]}, Regularization: {best_combo[1]}, Optimizer: {best_combo[2]} with a Validation Accuracy of {best_accuracy}')"
   ]
  },
  {
   "cell_type": "markdown",
   "metadata": {},
   "source": [
    "### Task 7- Discusión\n",
    "Discuta los resultados obtenidos de diferentes modelos. Compare la velocidad de convergencia y el rendimiento\n",
    "final de modelos utilizando diferentes funciones de pérdida, técnicas de regularización, y algoritmos de\n",
    "optimización. Explore y discuta por qué ciertas técnicas podrían conducir a un mejor rendimiento. tanto técnicas de\n",
    "regularización, funciones de pérdida como algoritmos de optimización."
   ]
  }
 ],
 "metadata": {
  "kernelspec": {
   "display_name": "Python 3",
   "language": "python",
   "name": "python3"
  },
  "language_info": {
   "codemirror_mode": {
    "name": "ipython",
    "version": 3
   },
   "file_extension": ".py",
   "mimetype": "text/x-python",
   "name": "python",
   "nbconvert_exporter": "python",
   "pygments_lexer": "ipython3",
   "version": "3.10.4"
  },
  "orig_nbformat": 4
 },
 "nbformat": 4,
 "nbformat_minor": 2
}
