{
 "cells": [
  {
   "cell_type": "markdown",
   "metadata": {},
   "source": [
    "### HOJA DE TRABAJO 2\n",
    "\n",
    "KENNETH GALVEZ\n",
    "\n",
    "JESSICA ORTIZ\n",
    "\n",
    "ESTEBAN ALDANA 20591"
   ]
  },
  {
   "cell_type": "code",
   "execution_count": 8,
   "metadata": {},
   "outputs": [],
   "source": [
    "# Importando bibliotecas necesarias\n",
    "import torch\n",
    "import torch.nn as nn\n",
    "import torch.optim as optim\n",
    "from sklearn.datasets import load_iris\n",
    "from sklearn.model_selection import train_test_split\n",
    "from sklearn.metrics import accuracy_score\n",
    "import matplotlib.pyplot as plt\n"
   ]
  },
  {
   "cell_type": "markdown",
   "metadata": {},
   "source": [
    "### Task 1 - Preparación del conjunto de datos\n",
    "\n",
    "Cargue el conjunto de datos de Iris utilizando bibliotecas como sklearn.datasets. Luego, divida el conjunto de datos\n",
    "en conjuntos de entrenamiento y validación.\n"
   ]
  },
  {
   "cell_type": "code",
   "execution_count": 9,
   "metadata": {},
   "outputs": [],
   "source": [
    "# Cargando el conjunto de datos de Iris\n",
    "iris = load_iris()\n",
    "X = iris.data\n",
    "y = iris.target\n",
    "\n",
    "# Dividiendo el conjunto de datos en conjuntos de entrenamiento y validación\n",
    "X_train, X_val, y_train, y_val = train_test_split(X, y, test_size=0.2, random_state=42)\n",
    "\n",
    "# Conviértelos a tensores de PyTorch\n",
    "X_train = torch.FloatTensor(X_train)\n",
    "y_train = torch.LongTensor(y_train)\n",
    "X_val = torch.FloatTensor(X_val)\n",
    "y_val = torch.LongTensor(y_val)\n"
   ]
  },
  {
   "cell_type": "markdown",
   "metadata": {},
   "source": [
    "### Task 2 - Arquitectura modelo\n",
    "Cree una red neuronal feedforward simple utilizando nn.Module de PyTorch. Luego, defina capa de entrada, capas\n",
    "ocultas y capa de salida. Después, elija las funciones de activación y el número de neuronas por capa."
   ]
  },
  {
   "cell_type": "code",
   "execution_count": 10,
   "metadata": {},
   "outputs": [],
   "source": [
    "# Definiendo la arquitectura del modelo\n",
    "class SimpleNN(nn.Module):\n",
    "    def __init__(self):\n",
    "        super(SimpleNN, self).__init__()\n",
    "        self.fc1 = nn.Linear(4, 16)  # Capa de entrada\n",
    "        self.fc2 = nn.Linear(16, 32) # Capa oculta\n",
    "        self.fc3 = nn.Linear(32, 3)  # Capa de salida\n",
    "        \n",
    "    def forward(self, x):\n",
    "        x = torch.relu(self.fc1(x))\n",
    "        x = torch.relu(self.fc2(x))\n",
    "        x = self.fc3(x)\n",
    "        return x\n",
    "\n",
    "# Instanciar el modelo\n",
    "model = SimpleNN()\n"
   ]
  },
  {
   "cell_type": "markdown",
   "metadata": {},
   "source": [
    "### Task 3 - Funciones de Pérdida\n",
    "Utilice diferentes funciones de pérdida comunes como Cross-Entropy Loss y MSE para clasificación. Entrene el\n",
    "modelo con diferentes funciones de pérdida y registre las pérdidas de entrenamiento y test. Debe utilizar al menos 3\n",
    "diferentes funciones. Es decir, procure que su código sea capaz de parametrizar el uso de diferentes funciones de\n",
    "pérdida.\n"
   ]
  },
  {
   "cell_type": "code",
   "execution_count": 11,
   "metadata": {},
   "outputs": [],
   "source": [
    "# Seleccionar función de pérdida\n",
    "loss_function_name = 'CrossEntropy'  # 'MSE' para probar Mean Squared Error\n",
    "\n",
    "if loss_function_name == 'CrossEntropy':\n",
    "    loss_function = nn.CrossEntropyLoss()\n",
    "elif loss_function_name == 'MSE':\n",
    "    loss_function = nn.MSELoss()\n"
   ]
  },
  {
   "cell_type": "markdown",
   "metadata": {},
   "source": [
    "### Task 4 - Técnicas de Regularización\n",
    "Utilice distintas técnicas de regularización como L1, L2 y dropout. Entrene el modelo con y sin técnicas de\n",
    "regularización y observe el impacto en el overfitting y la generalización. Debe utilizar al menos 3 diferentes técnicas.\n",
    "Es decir, procure que su código sea capaz de parametrizar el uso de diferentes técnicas de regularización."
   ]
  },
  {
   "cell_type": "code",
   "execution_count": 12,
   "metadata": {},
   "outputs": [],
   "source": [
    "# Modelo con Dropout como técnica de regularización\n",
    "class SimpleNN_Dropout(nn.Module):\n",
    "    def __init__(self):\n",
    "        super(SimpleNN_Dropout, self).__init__()\n",
    "        self.fc1 = nn.Linear(4, 16)\n",
    "        self.dropout1 = nn.Dropout(0.2)  # Dropout layer with 20% drop rate\n",
    "        self.fc2 = nn.Linear(16, 32)\n",
    "        self.dropout2 = nn.Dropout(0.2)  # Dropout layer with 20% drop rate\n",
    "        self.fc3 = nn.Linear(32, 3)\n",
    "\n",
    "    def forward(self, x):\n",
    "        x = torch.relu(self.fc1(x))\n",
    "        x = self.dropout1(x)\n",
    "        x = torch.relu(self.fc2(x))\n",
    "        x = self.dropout2(x)\n",
    "        x = self.fc3(x)\n",
    "        return x\n",
    "\n",
    "# Instanciar el modelo con Dropout\n",
    "model_dropout = SimpleNN_Dropout()\n"
   ]
  },
  {
   "cell_type": "markdown",
   "metadata": {},
   "source": [
    "### Task 5 - Algoritmos de Optimización\n",
    "Utilice distintas técnicas de optimización como SGD, Batch GD, Mini-Batch GD. Entrene el modelo con algoritmos de\n",
    "optimización y registre las pérdidas y tiempos de entrenamiento y test. Debe utilizar al menos 3 diferentes\n",
    "algoritmos. Es decir, procure que su código sea capaz de parametrizar el uso de diferentes algoritmos de\n",
    "optimización."
   ]
  },
  {
   "cell_type": "code",
   "execution_count": 13,
   "metadata": {},
   "outputs": [],
   "source": [
    "# Elegir el optimizador\n",
    "optimizer_name = 'Adam'  # Opciones: 'SGD', 'Adam', 'RMSprop'\n",
    "\n",
    "if optimizer_name == 'SGD':\n",
    "    optimizer = optim.SGD(model_dropout.parameters(), lr=0.01)\n",
    "elif optimizer_name == 'Adam':\n",
    "    optimizer = optim.Adam(model_dropout.parameters(), lr=0.01)\n",
    "elif optimizer_name == 'RMSprop':\n",
    "    optimizer = optim.RMSprop(model_dropout.parameters(), lr=0.01)\n"
   ]
  },
  {
   "cell_type": "code",
   "execution_count": 14,
   "metadata": {},
   "outputs": [
    {
     "name": "stdout",
     "output_type": "stream",
     "text": [
      "Epoch 1, Loss: 1.2715795040130615, Val Loss: 1.2287746667861938, Accuracy: 0.13333333333333333\n",
      "Epoch 2, Loss: 1.1045300960540771, Val Loss: 1.0121746063232422, Accuracy: 0.43333333333333335\n",
      "Epoch 3, Loss: 1.1081459522247314, Val Loss: 1.0606157779693604, Accuracy: 0.3333333333333333\n",
      "Epoch 4, Loss: 1.083020806312561, Val Loss: 1.0138198137283325, Accuracy: 0.43333333333333335\n",
      "Epoch 5, Loss: 1.0252962112426758, Val Loss: 0.8868897557258606, Accuracy: 0.6333333333333333\n",
      "Epoch 6, Loss: 0.9877320528030396, Val Loss: 0.9839597940444946, Accuracy: 0.4666666666666667\n",
      "Epoch 7, Loss: 0.9753949046134949, Val Loss: 0.927960991859436, Accuracy: 0.4666666666666667\n",
      "Epoch 8, Loss: 0.8830081224441528, Val Loss: 0.8560529351234436, Accuracy: 0.6\n",
      "Epoch 9, Loss: 0.8779398202896118, Val Loss: 0.7962508797645569, Accuracy: 0.6333333333333333\n",
      "Epoch 10, Loss: 0.8283851146697998, Val Loss: 0.8126782774925232, Accuracy: 0.7666666666666667\n",
      "Epoch 11, Loss: 0.7697346210479736, Val Loss: 0.7680342197418213, Accuracy: 0.6\n",
      "Epoch 12, Loss: 0.7158172130584717, Val Loss: 0.7218011617660522, Accuracy: 0.7\n",
      "Epoch 13, Loss: 0.6910352110862732, Val Loss: 0.5930332541465759, Accuracy: 0.8\n",
      "Epoch 14, Loss: 0.6767252683639526, Val Loss: 0.5736501812934875, Accuracy: 0.7333333333333333\n",
      "Epoch 15, Loss: 0.643478512763977, Val Loss: 0.587446928024292, Accuracy: 0.7666666666666667\n",
      "Epoch 16, Loss: 0.613655149936676, Val Loss: 0.531638503074646, Accuracy: 0.6666666666666666\n",
      "Epoch 17, Loss: 0.5709480047225952, Val Loss: 0.5398737192153931, Accuracy: 0.7\n",
      "Epoch 18, Loss: 0.5799275040626526, Val Loss: 0.4851350784301758, Accuracy: 0.7666666666666667\n",
      "Epoch 19, Loss: 0.5136210918426514, Val Loss: 0.4997132420539856, Accuracy: 0.7666666666666667\n",
      "Epoch 20, Loss: 0.5264754891395569, Val Loss: 0.5266004800796509, Accuracy: 0.7\n",
      "Epoch 21, Loss: 0.508390486240387, Val Loss: 0.42907819151878357, Accuracy: 0.8333333333333334\n",
      "Epoch 22, Loss: 0.4303397834300995, Val Loss: 0.5163255929946899, Accuracy: 0.7666666666666667\n",
      "Epoch 23, Loss: 0.4761868119239807, Val Loss: 0.4445420801639557, Accuracy: 0.7666666666666667\n",
      "Epoch 24, Loss: 0.445353239774704, Val Loss: 0.4075142741203308, Accuracy: 0.7666666666666667\n",
      "Epoch 25, Loss: 0.45303773880004883, Val Loss: 0.49862632155418396, Accuracy: 0.7333333333333333\n",
      "Epoch 26, Loss: 0.428924560546875, Val Loss: 0.4356119930744171, Accuracy: 0.8\n",
      "Epoch 27, Loss: 0.4130343496799469, Val Loss: 0.507193386554718, Accuracy: 0.8\n",
      "Epoch 28, Loss: 0.4507046937942505, Val Loss: 0.4194808900356293, Accuracy: 0.8\n",
      "Epoch 29, Loss: 0.4605412185192108, Val Loss: 0.4448171854019165, Accuracy: 0.7666666666666667\n",
      "Epoch 30, Loss: 0.462398499250412, Val Loss: 0.38674288988113403, Accuracy: 0.7666666666666667\n",
      "Epoch 31, Loss: 0.4041096866130829, Val Loss: 0.370097279548645, Accuracy: 0.8333333333333334\n",
      "Epoch 32, Loss: 0.4392164349555969, Val Loss: 0.4821834862232208, Accuracy: 0.7333333333333333\n",
      "Epoch 33, Loss: 0.3780944049358368, Val Loss: 0.3136901259422302, Accuracy: 0.8666666666666667\n",
      "Epoch 34, Loss: 0.36838021874427795, Val Loss: 0.4266701638698578, Accuracy: 0.7333333333333333\n",
      "Epoch 35, Loss: 0.3402957320213318, Val Loss: 0.30577197670936584, Accuracy: 0.8333333333333334\n",
      "Epoch 36, Loss: 0.3501684069633484, Val Loss: 0.41297677159309387, Accuracy: 0.8\n",
      "Epoch 37, Loss: 0.343781054019928, Val Loss: 0.29027605056762695, Accuracy: 0.9666666666666667\n",
      "Epoch 38, Loss: 0.33092954754829407, Val Loss: 0.33934471011161804, Accuracy: 0.8666666666666667\n",
      "Epoch 39, Loss: 0.2950587570667267, Val Loss: 0.2190602421760559, Accuracy: 0.9666666666666667\n",
      "Epoch 40, Loss: 0.2899581789970398, Val Loss: 0.2539464831352234, Accuracy: 0.9\n",
      "Epoch 41, Loss: 0.30674827098846436, Val Loss: 0.29489243030548096, Accuracy: 0.8333333333333334\n",
      "Epoch 42, Loss: 0.3426189422607422, Val Loss: 0.291512131690979, Accuracy: 0.9\n",
      "Epoch 43, Loss: 0.2628650367259979, Val Loss: 0.33151328563690186, Accuracy: 0.8\n",
      "Epoch 44, Loss: 0.24092458188533783, Val Loss: 0.1736849993467331, Accuracy: 1.0\n",
      "Epoch 45, Loss: 0.25752559304237366, Val Loss: 0.23630397021770477, Accuracy: 0.9\n",
      "Epoch 46, Loss: 0.30162954330444336, Val Loss: 0.24340468645095825, Accuracy: 0.9\n",
      "Epoch 47, Loss: 0.2874908447265625, Val Loss: 0.24700559675693512, Accuracy: 0.8666666666666667\n",
      "Epoch 48, Loss: 0.22243022918701172, Val Loss: 0.25309842824935913, Accuracy: 0.9\n",
      "Epoch 49, Loss: 0.26444947719573975, Val Loss: 0.19415973126888275, Accuracy: 0.9666666666666667\n",
      "Epoch 50, Loss: 0.26485028862953186, Val Loss: 0.30407583713531494, Accuracy: 0.8333333333333334\n"
     ]
    },
    {
     "data": {
      "image/png": "[encoded data removed]",
      "text/plain": [
       "<Figure size 640x480 with 1 Axes>"
      ]
     },
     "metadata": {},
     "output_type": "display_data"
    }
   ],
   "source": [
    "# Entrenamiento y registro de métricas\n",
    "n_epochs = 50\n",
    "train_losses = []\n",
    "val_losses = []\n",
    "\n",
    "for epoch in range(n_epochs):\n",
    "    # Forward pass\n",
    "    outputs = model_dropout(X_train)\n",
    "    loss = loss_function(outputs, y_train)\n",
    "\n",
    "    # Backward pass y optimización\n",
    "    optimizer.zero_grad()\n",
    "    loss.backward()\n",
    "    optimizer.step()\n",
    "    train_losses.append(loss.item())\n",
    "\n",
    "    # Validación\n",
    "    val_outputs = model_dropout(X_val)\n",
    "    val_loss = loss_function(val_outputs, y_val)\n",
    "    val_losses.append(val_loss.item())\n",
    "\n",
    "    # Cálculo de precisión\n",
    "    _, predicted = torch.max(val_outputs, 1)\n",
    "    accuracy = accuracy_score(y_val, predicted)\n",
    "    \n",
    "    print(f'Epoch {epoch+1}, Loss: {loss.item()}, Val Loss: {val_loss.item()}, Accuracy: {accuracy}')\n",
    "\n",
    "# Visualización de las curvas de pérdida\n",
    "plt.plot(train_losses, label='Training Loss')\n",
    "plt.plot(val_losses, label='Validation Loss')\n",
    "plt.legend()\n",
    "plt.show()\n"
   ]
  }
 ],
 "metadata": {
  "kernelspec": {
   "display_name": "Python 3",
   "language": "python",
   "name": "python3"
  },
  "language_info": {
   "codemirror_mode": {
    "name": "ipython",
    "version": 3
   },
   "file_extension": ".py",
   "mimetype": "text/x-python",
   "name": "python",
   "nbconvert_exporter": "python",
   "pygments_lexer": "ipython3",
   "version": "3.10.4"
  },
  "orig_nbformat": 4
 },
 "nbformat": 4,
 "nbformat_minor": 2
}
